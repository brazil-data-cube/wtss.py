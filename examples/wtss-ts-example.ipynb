{
 "cells": [
  {
   "cell_type": "markdown",
   "metadata": {},
   "source": [
    "# WTSS Python Client - Notebook example"
   ]
  },
  {
   "cell_type": "markdown",
   "metadata": {},
   "source": [
    "## Configure Matplotlib to enable pagination of time series"
   ]
  },
  {
   "cell_type": "code",
   "execution_count": null,
   "metadata": {},
   "outputs": [],
   "source": [
    "%matplotlib notebook"
   ]
  },
  {
   "cell_type": "markdown",
   "metadata": {},
   "source": [
    "## Connect to WTSS server"
   ]
  },
  {
   "cell_type": "code",
   "execution_count": null,
   "metadata": {},
   "outputs": [],
   "source": [
    "#\n",
    "# This file is part of Python Client Library for WTSS.\n",
    "# Copyright (C) 2022 INPE.\n",
    "#\n",
    "# Python Client Library for WTSS is free software; you can redistribute it and/or modify it\n",
    "# under the terms of the MIT License; see LICENSE file for more details.\n",
    "#\n",
    "\n",
    "from wtss import *\n",
    "import os\n",
    "\n",
    "service = WTSS(url='https://brazildatacube.dpi.inpe.br/dev/wtss/v2/', access_token='<Change-Me>')\n",
    "service"
   ]
  },
  {
   "cell_type": "markdown",
   "metadata": {},
   "source": [
    "## Select the data cube Sentinel-2 16 days"
   ]
  },
  {
   "cell_type": "code",
   "execution_count": null,
   "metadata": {},
   "outputs": [],
   "source": [
    "coverage = service['S2-16D-2']\n",
    "coverage"
   ]
  },
  {
   "cell_type": "markdown",
   "metadata": {},
   "source": [
    "_______________________________________\n",
    "## 3) Timeseries: The user can retrieve all timeseries inside the geometry"
   ]
  },
  {
   "cell_type": "code",
   "execution_count": null,
   "metadata": {},
   "outputs": [],
   "source": [
    "import shapely.geometry\n",
    "\n",
    "timeseries = coverage.ts(attributes=('NDVI',),\n",
    "                         geom=shapely.geometry.box(-59.60, -5.69, -59.59, -5.68),\n",
    "                         start_datetime=\"2020-01-01\", end_datetime=\"2022-12-31\")\n",
    "timeseries"
   ]
  },
  {
   "cell_type": "markdown",
   "metadata": {},
   "source": [
    "### 3.1) The query results are available as timeseries properties:"
   ]
  },
  {
   "cell_type": "code",
   "execution_count": null,
   "metadata": {},
   "outputs": [],
   "source": [
    "# Show total of locations matched\n",
    "total = timeseries.total_locations()\n",
    "total"
   ]
  },
  {
   "cell_type": "markdown",
   "metadata": {},
   "source": [
    "### 3.2) The user can plot the time series for each pixel"
   ]
  },
  {
   "cell_type": "code",
   "execution_count": null,
   "metadata": {
    "scrolled": true
   },
   "outputs": [],
   "source": [
    "timeseries.plot(paginate=True, stats=True)"
   ]
  },
  {
   "cell_type": "markdown",
   "metadata": {},
   "source": [
    "### 3.3) All values from each datetime and each attribute are available in a pandas dataframe format"
   ]
  },
  {
   "cell_type": "code",
   "execution_count": null,
   "metadata": {
    "scrolled": true
   },
   "outputs": [],
   "source": [
    "timeseries_df = timeseries.df()\n",
    "timeseries_df"
   ]
  },
  {
   "cell_type": "markdown",
   "metadata": {},
   "source": [
    "_______________________________________\n",
    "## 4) Summarize: The user can retrieve summarized timeseries from a geometry (e.g. mean, median, min, max, std)"
   ]
  },
  {
   "cell_type": "code",
   "execution_count": null,
   "metadata": {
    "scrolled": true
   },
   "outputs": [],
   "source": [
    "summarize = timeseries.summarize()\n",
    "summarize"
   ]
  },
  {
   "cell_type": "markdown",
   "metadata": {},
   "source": [
    "### 4.1) The query results are available as timeseries properties:"
   ]
  },
  {
   "cell_type": "code",
   "execution_count": null,
   "metadata": {
    "scrolled": true
   },
   "outputs": [],
   "source": [
    "print('\\n\\t summarize attributes:', summarize.attributes)\n",
    "\n",
    "print('\\n\\t summarize timeline:', summarize.timeline)\n",
    "\n",
    "print('\\n\\t NDVI mean:', summarize.NDVI.mean)"
   ]
  },
  {
   "cell_type": "markdown",
   "metadata": {},
   "source": [
    "### 4.2) The value of each aggregation on each datetime for each attribute is available in a pandas dataframe format"
   ]
  },
  {
   "cell_type": "code",
   "execution_count": null,
   "metadata": {},
   "outputs": [],
   "source": [
    "aggregation_df = summarize.df()\n",
    "aggregation_df"
   ]
  },
  {
   "cell_type": "markdown",
   "metadata": {},
   "source": [
    "### 4.3) The user can plot the summarized timeseries"
   ]
  },
  {
   "cell_type": "code",
   "execution_count": null,
   "metadata": {},
   "outputs": [],
   "source": [
    "# Plot the selected aggregation chart for the selected attribute(s)\n",
    "summarize.plot(\n",
    "    attributes = ['NDVI'],\n",
    "    aggregation = 'mean'\n",
    ")"
   ]
  }
 ],
 "metadata": {
  "interpreter": {
   "hash": "80f719bc19ff0f1785f647785e0f42902ef699ef6381ce694fbd80c734c55bc2"
  },
  "kernelspec": {
   "display_name": "Python 3 (ipykernel)",
   "language": "python",
   "name": "python3"
  },
  "language_info": {
   "codemirror_mode": {
    "name": "ipython",
    "version": 3
   },
   "file_extension": ".py",
   "mimetype": "text/x-python",
   "name": "python",
   "nbconvert_exporter": "python",
   "pygments_lexer": "ipython3",
   "version": "3.8.10"
  }
 },
 "nbformat": 4,
 "nbformat_minor": 2
}
